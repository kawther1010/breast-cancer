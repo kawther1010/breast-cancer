{
 "cells": [
  {
   "cell_type": "code",
   "execution_count": 1,
   "metadata": {},
   "outputs": [],
   "source": [
    "import pandas as pd\n",
    "from pgmpy.models import BayesianNetwork\n",
    "from pgmpy.estimators import BayesianEstimator\n",
    "from pgmpy.estimators import ExpectationMaximization\n",
    "\n",
    "from pgmpy.estimators import ExpectationMaximization as EM\n",
    "from sklearn.model_selection import train_test_split\n",
    "from sklearn.metrics import accuracy_score, precision_score, recall_score, f1_score\n"
   ]
  },
  {
   "cell_type": "code",
   "execution_count": 2,
   "metadata": {},
   "outputs": [
    {
     "data": {
      "text/html": [
       "<div>\n",
       "<style scoped>\n",
       "    .dataframe tbody tr th:only-of-type {\n",
       "        vertical-align: middle;\n",
       "    }\n",
       "\n",
       "    .dataframe tbody tr th {\n",
       "        vertical-align: top;\n",
       "    }\n",
       "\n",
       "    .dataframe thead th {\n",
       "        text-align: right;\n",
       "    }\n",
       "</style>\n",
       "<table border=\"1\" class=\"dataframe\">\n",
       "  <thead>\n",
       "    <tr style=\"text-align: right;\">\n",
       "      <th></th>\n",
       "      <th>Class</th>\n",
       "      <th>Age</th>\n",
       "      <th>Menopause</th>\n",
       "      <th>Tumor_size</th>\n",
       "      <th>Inv_nodes</th>\n",
       "      <th>Node_caps</th>\n",
       "      <th>Deg_malig</th>\n",
       "      <th>Breast</th>\n",
       "      <th>Breast_quad</th>\n",
       "      <th>Irradiat</th>\n",
       "    </tr>\n",
       "  </thead>\n",
       "  <tbody>\n",
       "    <tr>\n",
       "      <th>0</th>\n",
       "      <td>no-recurrence-events</td>\n",
       "      <td>30-39</td>\n",
       "      <td>premeno</td>\n",
       "      <td>30-34</td>\n",
       "      <td>0-2</td>\n",
       "      <td>no</td>\n",
       "      <td>3</td>\n",
       "      <td>left</td>\n",
       "      <td>left_low</td>\n",
       "      <td>no</td>\n",
       "    </tr>\n",
       "    <tr>\n",
       "      <th>1</th>\n",
       "      <td>no-recurrence-events</td>\n",
       "      <td>40-49</td>\n",
       "      <td>premeno</td>\n",
       "      <td>20-24</td>\n",
       "      <td>0-2</td>\n",
       "      <td>no</td>\n",
       "      <td>2</td>\n",
       "      <td>right</td>\n",
       "      <td>right_up</td>\n",
       "      <td>no</td>\n",
       "    </tr>\n",
       "    <tr>\n",
       "      <th>2</th>\n",
       "      <td>no-recurrence-events</td>\n",
       "      <td>40-49</td>\n",
       "      <td>premeno</td>\n",
       "      <td>20-24</td>\n",
       "      <td>0-2</td>\n",
       "      <td>no</td>\n",
       "      <td>2</td>\n",
       "      <td>left</td>\n",
       "      <td>left_low</td>\n",
       "      <td>no</td>\n",
       "    </tr>\n",
       "    <tr>\n",
       "      <th>3</th>\n",
       "      <td>no-recurrence-events</td>\n",
       "      <td>60-69</td>\n",
       "      <td>ge40</td>\n",
       "      <td>15-19</td>\n",
       "      <td>0-2</td>\n",
       "      <td>no</td>\n",
       "      <td>2</td>\n",
       "      <td>right</td>\n",
       "      <td>left_up</td>\n",
       "      <td>no</td>\n",
       "    </tr>\n",
       "    <tr>\n",
       "      <th>4</th>\n",
       "      <td>no-recurrence-events</td>\n",
       "      <td>40-49</td>\n",
       "      <td>premeno</td>\n",
       "      <td>0-4</td>\n",
       "      <td>0-2</td>\n",
       "      <td>no</td>\n",
       "      <td>2</td>\n",
       "      <td>right</td>\n",
       "      <td>right_low</td>\n",
       "      <td>no</td>\n",
       "    </tr>\n",
       "  </tbody>\n",
       "</table>\n",
       "</div>"
      ],
      "text/plain": [
       "                  Class    Age Menopause  ... Breast Breast_quad Irradiat\n",
       "0  no-recurrence-events  30-39   premeno  ...   left    left_low       no\n",
       "1  no-recurrence-events  40-49   premeno  ...  right    right_up       no\n",
       "2  no-recurrence-events  40-49   premeno  ...   left    left_low       no\n",
       "3  no-recurrence-events  60-69      ge40  ...  right     left_up       no\n",
       "4  no-recurrence-events  40-49   premeno  ...  right   right_low       no\n",
       "\n",
       "[5 rows x 10 columns]"
      ]
     },
     "execution_count": 2,
     "metadata": {},
     "output_type": "execute_result"
    }
   ],
   "source": [
    "df= pd.read_csv(\"breast-cancer.csv\")\n",
    "df.head()"
   ]
  },
  {
   "cell_type": "code",
   "execution_count": 3,
   "metadata": {},
   "outputs": [],
   "source": [
    "model = BayesianNetwork([('Age', 'Menopause'),\n",
    "                         ('Age', 'Deg_malig'),\n",
    "                         ('Irradiat', 'Deg_malig'),\n",
    "                         ('Irradiat', 'Breast'),\n",
    "                         ('Menopause', 'Deg_malig'),\n",
    "                         ('Tumor_size', 'Deg_malig'),\n",
    "                         ('Tumor_size', 'Class'),\n",
    "                         ('Inv_nodes', 'Class'),\n",
    "                         ('Inv_nodes', 'Node_caps'),\n",
    "\n",
    "                         ('Node_caps', 'Deg_malig'),\n",
    "                         ('Tumor_size', 'Inv_nodes'),\n",
    "                         ('Node_caps', 'Class'),\n",
    "                         ('Breast', 'Breast_quad'),\n",
    "                         ('Breast_quad', 'Node_caps'),\n",
    "                         ('Class', 'Deg_malig')\n",
    "                         ])"
   ]
  },
  {
   "cell_type": "code",
   "execution_count": 4,
   "metadata": {},
   "outputs": [
    {
     "name": "stderr",
     "output_type": "stream",
     "text": [
      "  0%|          | 0/100 [00:00<?, ?it/s]\n"
     ]
    },
    {
     "data": {
      "text/plain": [
       "[<TabularCPD representing P(Menopause:3 | Age:6) at 0x7fefeecc2350>,\n",
       " <TabularCPD representing P(Breast:2 | Irradiat:2) at 0x7fefee5e6310>,\n",
       " <TabularCPD representing P(Age:6) at 0x7fefee5e7910>,\n",
       " <TabularCPD representing P(Tumor_size:11) at 0x7fefee5f79d0>,\n",
       " <TabularCPD representing P(Irradiat:2) at 0x7fefee5f78d0>,\n",
       " <TabularCPD representing P(Inv_nodes:7 | Tumor_size:11) at 0x7fefee5f6f10>,\n",
       " <TabularCPD representing P(Breast_quad:6 | Breast:2) at 0x7fefee608cd0>,\n",
       " <TabularCPD representing P(Node_caps:3 | Breast_quad:6, Inv_nodes:7) at 0x7fefee609710>,\n",
       " <TabularCPD representing P(Class:2 | Inv_nodes:7, Node_caps:3, Tumor_size:11) at 0x7fefee611c10>,\n",
       " <TabularCPD representing P(Deg_malig:3 | Age:6, Class:2, Irradiat:2, Menopause:3, Node_caps:3, Tumor_size:11) at 0x7fefee62f2d0>]"
      ]
     },
     "execution_count": 4,
     "metadata": {},
     "output_type": "execute_result"
    }
   ],
   "source": [
    "estimator = EM(model, df)\n",
    "estimator.get_parameters()\n",
    "# train_df || df"
   ]
  },
  {
   "cell_type": "code",
   "execution_count": 5,
   "metadata": {},
   "outputs": [],
   "source": [
    "train_data, test_data = train_test_split(df, test_size=0.2, random_state=42)\n",
    "model.fit(train_data, estimator=BayesianEstimator, prior_type='BDeu', equivalent_sample_size=10)"
   ]
  }
 ],
 "metadata": {
  "kernelspec": {
   "display_name": "Python 3",
   "language": "python",
   "name": "python3"
  },
  "language_info": {
   "codemirror_mode": {
    "name": "ipython",
    "version": 3
   },
   "file_extension": ".py",
   "mimetype": "text/x-python",
   "name": "python",
   "nbconvert_exporter": "python",
   "pygments_lexer": "ipython3",
   "version": "3.11.6"
  }
 },
 "nbformat": 4,
 "nbformat_minor": 2
}
